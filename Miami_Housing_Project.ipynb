{
 "cells": [
  {
   "cell_type": "code",
   "execution_count": 136,
   "id": "ab32070f",
   "metadata": {},
   "outputs": [],
   "source": [
    "#Data Cleaning Packages\n",
    "import pandas as pd\n",
    "import numpy as np\n",
    "\n",
    "#Visualization Packages\n",
    "import matplotlib.pyplot as plt\n",
    "import seaborn as sns\n",
    "\n",
    "#Modeling Packages\n",
    "from sklearn.model_selection import train_test_split\n",
    "from sklearn.metrics import precision_score, recall_score, accuracy_score, roc_auc_score, f1_score\n",
    "from sklearn.neighbors import KNeighborsClassifier\n",
    "from sklearn.linear_model import LogisticRegression\n",
    "from sklearn.preprocessing import StandardScaler\n",
    "from sklearn.ensemble import RandomForestClassifier\n",
    "from sklearn.inspection import permutation_importance\n",
    "import xgboost as xgb"
   ]
  },
  {
   "cell_type": "code",
   "execution_count": 137,
   "id": "58d5b779",
   "metadata": {},
   "outputs": [],
   "source": [
    "# Upload the data to a dataframe for EDA and cleaning\n",
    "df = pd.read_csv('miami-housing.csv')"
   ]
  },
  {
   "cell_type": "code",
   "execution_count": 138,
   "id": "cb8ace9a",
   "metadata": {},
   "outputs": [
    {
     "data": {
      "text/html": [
       "<div>\n",
       "<style scoped>\n",
       "    .dataframe tbody tr th:only-of-type {\n",
       "        vertical-align: middle;\n",
       "    }\n",
       "\n",
       "    .dataframe tbody tr th {\n",
       "        vertical-align: top;\n",
       "    }\n",
       "\n",
       "    .dataframe thead th {\n",
       "        text-align: right;\n",
       "    }\n",
       "</style>\n",
       "<table border=\"1\" class=\"dataframe\">\n",
       "  <thead>\n",
       "    <tr style=\"text-align: right;\">\n",
       "      <th></th>\n",
       "      <th>LATITUDE</th>\n",
       "      <th>LONGITUDE</th>\n",
       "      <th>PARCELNO</th>\n",
       "      <th>SALE_PRC</th>\n",
       "      <th>LND_SQFOOT</th>\n",
       "      <th>TOT_LVG_AREA</th>\n",
       "      <th>SPEC_FEAT_VAL</th>\n",
       "      <th>RAIL_DIST</th>\n",
       "      <th>OCEAN_DIST</th>\n",
       "      <th>WATER_DIST</th>\n",
       "      <th>CNTR_DIST</th>\n",
       "      <th>SUBCNTR_DI</th>\n",
       "      <th>HWY_DIST</th>\n",
       "      <th>age</th>\n",
       "      <th>avno60plus</th>\n",
       "      <th>month_sold</th>\n",
       "      <th>structure_quality</th>\n",
       "    </tr>\n",
       "  </thead>\n",
       "  <tbody>\n",
       "    <tr>\n",
       "      <th>0</th>\n",
       "      <td>25.891031</td>\n",
       "      <td>-80.160561</td>\n",
       "      <td>622280070620</td>\n",
       "      <td>440000.0</td>\n",
       "      <td>9375</td>\n",
       "      <td>1753</td>\n",
       "      <td>0</td>\n",
       "      <td>2815.9</td>\n",
       "      <td>12811.4</td>\n",
       "      <td>347.6</td>\n",
       "      <td>42815.3</td>\n",
       "      <td>37742.2</td>\n",
       "      <td>15954.9</td>\n",
       "      <td>67</td>\n",
       "      <td>0</td>\n",
       "      <td>8</td>\n",
       "      <td>4</td>\n",
       "    </tr>\n",
       "    <tr>\n",
       "      <th>1</th>\n",
       "      <td>25.891324</td>\n",
       "      <td>-80.153968</td>\n",
       "      <td>622280100460</td>\n",
       "      <td>349000.0</td>\n",
       "      <td>9375</td>\n",
       "      <td>1715</td>\n",
       "      <td>0</td>\n",
       "      <td>4359.1</td>\n",
       "      <td>10648.4</td>\n",
       "      <td>337.8</td>\n",
       "      <td>43504.9</td>\n",
       "      <td>37340.5</td>\n",
       "      <td>18125.0</td>\n",
       "      <td>63</td>\n",
       "      <td>0</td>\n",
       "      <td>9</td>\n",
       "      <td>4</td>\n",
       "    </tr>\n",
       "    <tr>\n",
       "      <th>2</th>\n",
       "      <td>25.891334</td>\n",
       "      <td>-80.153740</td>\n",
       "      <td>622280100470</td>\n",
       "      <td>800000.0</td>\n",
       "      <td>9375</td>\n",
       "      <td>2276</td>\n",
       "      <td>49206</td>\n",
       "      <td>4412.9</td>\n",
       "      <td>10574.1</td>\n",
       "      <td>297.1</td>\n",
       "      <td>43530.4</td>\n",
       "      <td>37328.7</td>\n",
       "      <td>18200.5</td>\n",
       "      <td>61</td>\n",
       "      <td>0</td>\n",
       "      <td>2</td>\n",
       "      <td>4</td>\n",
       "    </tr>\n",
       "    <tr>\n",
       "      <th>3</th>\n",
       "      <td>25.891765</td>\n",
       "      <td>-80.152657</td>\n",
       "      <td>622280100530</td>\n",
       "      <td>988000.0</td>\n",
       "      <td>12450</td>\n",
       "      <td>2058</td>\n",
       "      <td>10033</td>\n",
       "      <td>4585.0</td>\n",
       "      <td>10156.5</td>\n",
       "      <td>0.0</td>\n",
       "      <td>43797.5</td>\n",
       "      <td>37423.2</td>\n",
       "      <td>18514.4</td>\n",
       "      <td>63</td>\n",
       "      <td>0</td>\n",
       "      <td>9</td>\n",
       "      <td>4</td>\n",
       "    </tr>\n",
       "    <tr>\n",
       "      <th>4</th>\n",
       "      <td>25.891825</td>\n",
       "      <td>-80.154639</td>\n",
       "      <td>622280100200</td>\n",
       "      <td>755000.0</td>\n",
       "      <td>12800</td>\n",
       "      <td>1684</td>\n",
       "      <td>16681</td>\n",
       "      <td>4063.4</td>\n",
       "      <td>10836.8</td>\n",
       "      <td>326.6</td>\n",
       "      <td>43599.7</td>\n",
       "      <td>37550.8</td>\n",
       "      <td>17903.4</td>\n",
       "      <td>42</td>\n",
       "      <td>0</td>\n",
       "      <td>7</td>\n",
       "      <td>4</td>\n",
       "    </tr>\n",
       "  </tbody>\n",
       "</table>\n",
       "</div>"
      ],
      "text/plain": [
       "    LATITUDE  LONGITUDE      PARCELNO  SALE_PRC  LND_SQFOOT  TOT_LVG_AREA  \\\n",
       "0  25.891031 -80.160561  622280070620  440000.0        9375          1753   \n",
       "1  25.891324 -80.153968  622280100460  349000.0        9375          1715   \n",
       "2  25.891334 -80.153740  622280100470  800000.0        9375          2276   \n",
       "3  25.891765 -80.152657  622280100530  988000.0       12450          2058   \n",
       "4  25.891825 -80.154639  622280100200  755000.0       12800          1684   \n",
       "\n",
       "   SPEC_FEAT_VAL  RAIL_DIST  OCEAN_DIST  WATER_DIST  CNTR_DIST  SUBCNTR_DI  \\\n",
       "0              0     2815.9     12811.4       347.6    42815.3     37742.2   \n",
       "1              0     4359.1     10648.4       337.8    43504.9     37340.5   \n",
       "2          49206     4412.9     10574.1       297.1    43530.4     37328.7   \n",
       "3          10033     4585.0     10156.5         0.0    43797.5     37423.2   \n",
       "4          16681     4063.4     10836.8       326.6    43599.7     37550.8   \n",
       "\n",
       "   HWY_DIST  age  avno60plus  month_sold  structure_quality  \n",
       "0   15954.9   67           0           8                  4  \n",
       "1   18125.0   63           0           9                  4  \n",
       "2   18200.5   61           0           2                  4  \n",
       "3   18514.4   63           0           9                  4  \n",
       "4   17903.4   42           0           7                  4  "
      ]
     },
     "execution_count": 138,
     "metadata": {},
     "output_type": "execute_result"
    }
   ],
   "source": [
    "df.head()"
   ]
  },
  {
   "cell_type": "code",
   "execution_count": 139,
   "id": "26713935",
   "metadata": {},
   "outputs": [],
   "source": [
    "df.columns = ['Lat', 'Lon', 'Parcelno', 'Sale_Price', 'Land_SQFoot', 'Total_SQFoot', 'Spec_Feat_Val', \n",
    "             'Rail_Dist', 'Ocean_Dist', 'Water_Dist', 'CNTR_Dist', 'Sub_CNTR_Dist', 'HWY_Dist', 'Age', \n",
    "             'AP_Noise', 'Month_Sold', 'Struc_Qual']"
   ]
  },
  {
   "cell_type": "code",
   "execution_count": 140,
   "id": "da59b7b3",
   "metadata": {},
   "outputs": [],
   "source": [
    "#function indicates whether home was sold for greater or less than the median home price of $330k\n",
    "def Greater_Than(item):\n",
    "        if item > 1000000:\n",
    "            return 1\n",
    "        else:\n",
    "            return 0\n",
    "\n",
    "#Create dummy variable for target feature\n",
    "df['Target'] = df.Sale_Price.apply(Greater_Than)"
   ]
  },
  {
   "cell_type": "code",
   "execution_count": 148,
   "id": "edc9f441",
   "metadata": {},
   "outputs": [
    {
     "data": {
      "text/plain": [
       "310000.0"
      ]
     },
     "execution_count": 148,
     "metadata": {},
     "output_type": "execute_result"
    }
   ],
   "source": [
    "#Identified median sales price\n",
    "df.Sale_Price.median()"
   ]
  },
  {
   "cell_type": "code",
   "execution_count": 145,
   "id": "1004db79",
   "metadata": {},
   "outputs": [
    {
     "data": {
      "text/plain": [
       "<AxesSubplot:xlabel='Sale_Price', ylabel='Count'>"
      ]
     },
     "execution_count": 145,
     "metadata": {},
     "output_type": "execute_result"
    },
    {
     "data": {
      "image/png": "[encoded data removed]",
      "text/plain": [
       "<Figure size 432x288 with 1 Axes>"
      ]
     },
     "metadata": {
      "needs_background": "light"
     },
     "output_type": "display_data"
    }
   ],
   "source": [
    "#Visualize sales price distribution in histogram\n",
    "sns.histplot(df.Sale_Price)"
   ]
  },
  {
   "cell_type": "code",
   "execution_count": 104,
   "id": "ce42eb41",
   "metadata": {
    "scrolled": true
   },
   "outputs": [],
   "source": [
    "#dropped unecessary variables from set\n",
    "df = df.drop(columns = ['Parcelno', 'Sale_Price'])"
   ]
  },
  {
   "cell_type": "code",
   "execution_count": 105,
   "id": "489083df",
   "metadata": {},
   "outputs": [
    {
     "data": {
      "text/html": [
       "<div>\n",
       "<style scoped>\n",
       "    .dataframe tbody tr th:only-of-type {\n",
       "        vertical-align: middle;\n",
       "    }\n",
       "\n",
       "    .dataframe tbody tr th {\n",
       "        vertical-align: top;\n",
       "    }\n",
       "\n",
       "    .dataframe thead th {\n",
       "        text-align: right;\n",
       "    }\n",
       "</style>\n",
       "<table border=\"1\" class=\"dataframe\">\n",
       "  <thead>\n",
       "    <tr style=\"text-align: right;\">\n",
       "      <th></th>\n",
       "      <th>Lat</th>\n",
       "      <th>Lon</th>\n",
       "      <th>Land_SQFoot</th>\n",
       "      <th>Total_SQFoot</th>\n",
       "      <th>Spec_Feat_Val</th>\n",
       "      <th>Rail_Dist</th>\n",
       "      <th>Ocean_Dist</th>\n",
       "      <th>Water_Dist</th>\n",
       "      <th>CNTR_Dist</th>\n",
       "      <th>Sub_CNTR_Dist</th>\n",
       "      <th>HWY_Dist</th>\n",
       "      <th>Age</th>\n",
       "      <th>AP_Noise</th>\n",
       "      <th>Month_Sold</th>\n",
       "      <th>Struc_Qual</th>\n",
       "      <th>Target</th>\n",
       "    </tr>\n",
       "  </thead>\n",
       "  <tbody>\n",
       "    <tr>\n",
       "      <th>0</th>\n",
       "      <td>25.891031</td>\n",
       "      <td>-80.160561</td>\n",
       "      <td>9375</td>\n",
       "      <td>1753</td>\n",
       "      <td>0</td>\n",
       "      <td>2815.9</td>\n",
       "      <td>12811.4</td>\n",
       "      <td>347.6</td>\n",
       "      <td>42815.3</td>\n",
       "      <td>37742.2</td>\n",
       "      <td>15954.9</td>\n",
       "      <td>67</td>\n",
       "      <td>0</td>\n",
       "      <td>8</td>\n",
       "      <td>4</td>\n",
       "      <td>0</td>\n",
       "    </tr>\n",
       "    <tr>\n",
       "      <th>1</th>\n",
       "      <td>25.891324</td>\n",
       "      <td>-80.153968</td>\n",
       "      <td>9375</td>\n",
       "      <td>1715</td>\n",
       "      <td>0</td>\n",
       "      <td>4359.1</td>\n",
       "      <td>10648.4</td>\n",
       "      <td>337.8</td>\n",
       "      <td>43504.9</td>\n",
       "      <td>37340.5</td>\n",
       "      <td>18125.0</td>\n",
       "      <td>63</td>\n",
       "      <td>0</td>\n",
       "      <td>9</td>\n",
       "      <td>4</td>\n",
       "      <td>0</td>\n",
       "    </tr>\n",
       "    <tr>\n",
       "      <th>2</th>\n",
       "      <td>25.891334</td>\n",
       "      <td>-80.153740</td>\n",
       "      <td>9375</td>\n",
       "      <td>2276</td>\n",
       "      <td>49206</td>\n",
       "      <td>4412.9</td>\n",
       "      <td>10574.1</td>\n",
       "      <td>297.1</td>\n",
       "      <td>43530.4</td>\n",
       "      <td>37328.7</td>\n",
       "      <td>18200.5</td>\n",
       "      <td>61</td>\n",
       "      <td>0</td>\n",
       "      <td>2</td>\n",
       "      <td>4</td>\n",
       "      <td>0</td>\n",
       "    </tr>\n",
       "    <tr>\n",
       "      <th>3</th>\n",
       "      <td>25.891765</td>\n",
       "      <td>-80.152657</td>\n",
       "      <td>12450</td>\n",
       "      <td>2058</td>\n",
       "      <td>10033</td>\n",
       "      <td>4585.0</td>\n",
       "      <td>10156.5</td>\n",
       "      <td>0.0</td>\n",
       "      <td>43797.5</td>\n",
       "      <td>37423.2</td>\n",
       "      <td>18514.4</td>\n",
       "      <td>63</td>\n",
       "      <td>0</td>\n",
       "      <td>9</td>\n",
       "      <td>4</td>\n",
       "      <td>0</td>\n",
       "    </tr>\n",
       "    <tr>\n",
       "      <th>4</th>\n",
       "      <td>25.891825</td>\n",
       "      <td>-80.154639</td>\n",
       "      <td>12800</td>\n",
       "      <td>1684</td>\n",
       "      <td>16681</td>\n",
       "      <td>4063.4</td>\n",
       "      <td>10836.8</td>\n",
       "      <td>326.6</td>\n",
       "      <td>43599.7</td>\n",
       "      <td>37550.8</td>\n",
       "      <td>17903.4</td>\n",
       "      <td>42</td>\n",
       "      <td>0</td>\n",
       "      <td>7</td>\n",
       "      <td>4</td>\n",
       "      <td>0</td>\n",
       "    </tr>\n",
       "    <tr>\n",
       "      <th>...</th>\n",
       "      <td>...</td>\n",
       "      <td>...</td>\n",
       "      <td>...</td>\n",
       "      <td>...</td>\n",
       "      <td>...</td>\n",
       "      <td>...</td>\n",
       "      <td>...</td>\n",
       "      <td>...</td>\n",
       "      <td>...</td>\n",
       "      <td>...</td>\n",
       "      <td>...</td>\n",
       "      <td>...</td>\n",
       "      <td>...</td>\n",
       "      <td>...</td>\n",
       "      <td>...</td>\n",
       "      <td>...</td>\n",
       "    </tr>\n",
       "    <tr>\n",
       "      <th>13927</th>\n",
       "      <td>25.783130</td>\n",
       "      <td>-80.259795</td>\n",
       "      <td>6780</td>\n",
       "      <td>967</td>\n",
       "      <td>6580</td>\n",
       "      <td>3844.5</td>\n",
       "      <td>20568.0</td>\n",
       "      <td>3252.4</td>\n",
       "      <td>22175.9</td>\n",
       "      <td>12150.1</td>\n",
       "      <td>917.4</td>\n",
       "      <td>16</td>\n",
       "      <td>0</td>\n",
       "      <td>4</td>\n",
       "      <td>4</td>\n",
       "      <td>0</td>\n",
       "    </tr>\n",
       "    <tr>\n",
       "      <th>13928</th>\n",
       "      <td>25.783585</td>\n",
       "      <td>-80.260354</td>\n",
       "      <td>7500</td>\n",
       "      <td>1854</td>\n",
       "      <td>2544</td>\n",
       "      <td>3593.6</td>\n",
       "      <td>20791.9</td>\n",
       "      <td>3077.7</td>\n",
       "      <td>22375.1</td>\n",
       "      <td>12316.8</td>\n",
       "      <td>738.2</td>\n",
       "      <td>26</td>\n",
       "      <td>0</td>\n",
       "      <td>5</td>\n",
       "      <td>4</td>\n",
       "      <td>0</td>\n",
       "    </tr>\n",
       "    <tr>\n",
       "      <th>13929</th>\n",
       "      <td>25.783793</td>\n",
       "      <td>-80.256126</td>\n",
       "      <td>8460</td>\n",
       "      <td>1271</td>\n",
       "      <td>2064</td>\n",
       "      <td>4143.2</td>\n",
       "      <td>20307.9</td>\n",
       "      <td>3588.4</td>\n",
       "      <td>20966.9</td>\n",
       "      <td>12433.0</td>\n",
       "      <td>743.7</td>\n",
       "      <td>16</td>\n",
       "      <td>0</td>\n",
       "      <td>7</td>\n",
       "      <td>4</td>\n",
       "      <td>0</td>\n",
       "    </tr>\n",
       "    <tr>\n",
       "      <th>13930</th>\n",
       "      <td>25.784007</td>\n",
       "      <td>-80.257542</td>\n",
       "      <td>7500</td>\n",
       "      <td>1613</td>\n",
       "      <td>3136</td>\n",
       "      <td>3986.9</td>\n",
       "      <td>20542.6</td>\n",
       "      <td>3589.1</td>\n",
       "      <td>21475.6</td>\n",
       "      <td>12458.0</td>\n",
       "      <td>626.1</td>\n",
       "      <td>16</td>\n",
       "      <td>0</td>\n",
       "      <td>8</td>\n",
       "      <td>4</td>\n",
       "      <td>0</td>\n",
       "    </tr>\n",
       "    <tr>\n",
       "      <th>13931</th>\n",
       "      <td>25.784387</td>\n",
       "      <td>-80.258901</td>\n",
       "      <td>8833</td>\n",
       "      <td>1867</td>\n",
       "      <td>266</td>\n",
       "      <td>3793.9</td>\n",
       "      <td>20859.6</td>\n",
       "      <td>3421.0</td>\n",
       "      <td>21928.6</td>\n",
       "      <td>12599.0</td>\n",
       "      <td>474.7</td>\n",
       "      <td>62</td>\n",
       "      <td>0</td>\n",
       "      <td>11</td>\n",
       "      <td>4</td>\n",
       "      <td>0</td>\n",
       "    </tr>\n",
       "  </tbody>\n",
       "</table>\n",
       "<p>13932 rows × 16 columns</p>\n",
       "</div>"
      ],
      "text/plain": [
       "             Lat        Lon  Land_SQFoot  Total_SQFoot  Spec_Feat_Val  \\\n",
       "0      25.891031 -80.160561         9375          1753              0   \n",
       "1      25.891324 -80.153968         9375          1715              0   \n",
       "2      25.891334 -80.153740         9375          2276          49206   \n",
       "3      25.891765 -80.152657        12450          2058          10033   \n",
       "4      25.891825 -80.154639        12800          1684          16681   \n",
       "...          ...        ...          ...           ...            ...   \n",
       "13927  25.783130 -80.259795         6780           967           6580   \n",
       "13928  25.783585 -80.260354         7500          1854           2544   \n",
       "13929  25.783793 -80.256126         8460          1271           2064   \n",
       "13930  25.784007 -80.257542         7500          1613           3136   \n",
       "13931  25.784387 -80.258901         8833          1867            266   \n",
       "\n",
       "       Rail_Dist  Ocean_Dist  Water_Dist  CNTR_Dist  Sub_CNTR_Dist  HWY_Dist  \\\n",
       "0         2815.9     12811.4       347.6    42815.3        37742.2   15954.9   \n",
       "1         4359.1     10648.4       337.8    43504.9        37340.5   18125.0   \n",
       "2         4412.9     10574.1       297.1    43530.4        37328.7   18200.5   \n",
       "3         4585.0     10156.5         0.0    43797.5        37423.2   18514.4   \n",
       "4         4063.4     10836.8       326.6    43599.7        37550.8   17903.4   \n",
       "...          ...         ...         ...        ...            ...       ...   \n",
       "13927     3844.5     20568.0      3252.4    22175.9        12150.1     917.4   \n",
       "13928     3593.6     20791.9      3077.7    22375.1        12316.8     738.2   \n",
       "13929     4143.2     20307.9      3588.4    20966.9        12433.0     743.7   \n",
       "13930     3986.9     20542.6      3589.1    21475.6        12458.0     626.1   \n",
       "13931     3793.9     20859.6      3421.0    21928.6        12599.0     474.7   \n",
       "\n",
       "       Age  AP_Noise  Month_Sold  Struc_Qual  Target  \n",
       "0       67         0           8           4       0  \n",
       "1       63         0           9           4       0  \n",
       "2       61         0           2           4       0  \n",
       "3       63         0           9           4       0  \n",
       "4       42         0           7           4       0  \n",
       "...    ...       ...         ...         ...     ...  \n",
       "13927   16         0           4           4       0  \n",
       "13928   26         0           5           4       0  \n",
       "13929   16         0           7           4       0  \n",
       "13930   16         0           8           4       0  \n",
       "13931   62         0          11           4       0  \n",
       "\n",
       "[13932 rows x 16 columns]"
      ]
     },
     "execution_count": 105,
     "metadata": {},
     "output_type": "execute_result"
    }
   ],
   "source": [
    "df"
   ]
  },
  {
   "cell_type": "code",
   "execution_count": 106,
   "id": "b864d139",
   "metadata": {},
   "outputs": [
    {
     "data": {
      "text/plain": [
       "Index(['Lat', 'Lon', 'Land_SQFoot', 'Total_SQFoot', 'Spec_Feat_Val',\n",
       "       'Rail_Dist', 'Ocean_Dist', 'Water_Dist', 'CNTR_Dist', 'Sub_CNTR_Dist',\n",
       "       'HWY_Dist', 'Age', 'AP_Noise', 'Month_Sold', 'Struc_Qual', 'Target'],\n",
       "      dtype='object')"
      ]
     },
     "execution_count": 106,
     "metadata": {},
     "output_type": "execute_result"
    }
   ],
   "source": [
    "df.columns"
   ]
  },
  {
   "cell_type": "code",
   "execution_count": 107,
   "id": "8b61802b",
   "metadata": {},
   "outputs": [],
   "source": [
    "#Standardized the feature data with sklearn's StandardScaler\n",
    "scale = StandardScaler()\n",
    "X = df.drop(columns = ['Target'])\n",
    "scaled_X = pd.DataFrame(scale.fit_transform(X), columns = ['Lat', 'Lon', 'Land_SQFoot', 'Total_SQFoot', 'Spec_Feat_Val',\n",
    "       'Rail_Dist', 'Ocean_Dist', 'Water_Dist', 'CNTR_Dist', 'Sub_CNTR_Dist',\n",
    "       'HWY_Dist', 'Age', 'AP_Noise', 'Month_Sold', 'Struc_Qual'])\n",
    "\n",
    "#Splitting Data between Train, Validation, and Test\n",
    "y = df.Target\n",
    "X, X_test, y, y_test = train_test_split(X, y, \n",
    "                                       test_size=.2,     \n",
    "                                       random_state=42)\n",
    "\n",
    "X_train, X_val, y_train, y_val = train_test_split(X, y, \n",
    "                                       test_size=.25,     \n",
    "                                       random_state=42)"
   ]
  },
  {
   "cell_type": "code",
   "execution_count": 108,
   "id": "3e589ee0",
   "metadata": {},
   "outputs": [
    {
     "name": "stdout",
     "output_type": "stream",
     "text": [
      "Precision Score:  0.7709923664122137\n",
      "Recall Score:  0.6778523489932886\n",
      "F1 Score:  0.7214285714285715\n"
     ]
    }
   ],
   "source": [
    "#KNN Model for All Features\n",
    "knn = KNeighborsClassifier(n_neighbors=5)\n",
    "knn.fit(X_train, y_train)\n",
    "y_pred = knn.predict(X_val)\n",
    "print('Precision Score: ', precision_score(y_val, y_pred))\n",
    "print('Recall Score: ', recall_score(y_val, y_pred))\n",
    "print('F1 Score: ', f1_score(y_val, y_pred))"
   ]
  },
  {
   "cell_type": "code",
   "execution_count": 109,
   "id": "e393e495",
   "metadata": {},
   "outputs": [
    {
     "name": "stdout",
     "output_type": "stream",
     "text": [
      "Precision Score:  0.7876106194690266\n",
      "Recall Score:  0.5973154362416108\n",
      "F1 Score:  0.6793893129770993\n"
     ]
    },
    {
     "name": "stderr",
     "output_type": "stream",
     "text": [
      "/Users/averypeterson/opt/anaconda3/envs/classification/lib/python3.8/site-packages/sklearn/linear_model/_logistic.py:814: ConvergenceWarning: lbfgs failed to converge (status=1):\n",
      "STOP: TOTAL NO. of ITERATIONS REACHED LIMIT.\n",
      "\n",
      "Increase the number of iterations (max_iter) or scale the data as shown in:\n",
      "    https://scikit-learn.org/stable/modules/preprocessing.html\n",
      "Please also refer to the documentation for alternative solver options:\n",
      "    https://scikit-learn.org/stable/modules/linear_model.html#logistic-regression\n",
      "  n_iter_i = _check_optimize_result(\n"
     ]
    }
   ],
   "source": [
    "#Log Reg Model for All Features\n",
    "lr_model = LogisticRegression()\n",
    "lr_model.fit(X_train,y_train)\n",
    "y_pred = lr_model.predict(X_val)\n",
    "print('Precision Score: ', precision_score(y_val, y_pred))\n",
    "print('Recall Score: ', recall_score(y_val, y_pred))\n",
    "print('F1 Score: ', f1_score(y_val, y_pred))"
   ]
  },
  {
   "cell_type": "code",
   "execution_count": 110,
   "id": "1237f622",
   "metadata": {},
   "outputs": [
    {
     "name": "stdout",
     "output_type": "stream",
     "text": [
      "Lat :  -0.013274447568657618\n",
      "Lon :  0.04136200091609009\n",
      "Land_SQFoot :  5.407686370795363e-05\n",
      "Total_SQFoot :  0.0021014514865814633\n",
      "Spec_Feat_Val :  3.7826741352274064e-05\n",
      "Rail_Dist :  7.005765369135664e-05\n",
      "Ocean_Dist :  -2.6542326785428705e-05\n",
      "Water_Dist :  -5.3485857342700306e-05\n",
      "CNTR_Dist :  -0.00012504242785305728\n",
      "Sub_CNTR_Dist :  1.651915653422117e-05\n",
      "HWY_Dist :  0.00010193552286443841\n",
      "Age :  -0.04052306280212702\n",
      "AP_Noise :  -3.425049779357226e-05\n",
      "Month_Sold :  -0.0039347573773639\n",
      "Struc_Qual :  -0.0008911777056660823\n"
     ]
    }
   ],
   "source": [
    "#Feature Coefficients for Log Reg model\n",
    "coef_list = list(lr_model.coef_[0])\n",
    "for num in range(len(coef_list)):\n",
    "    print(X_train.columns[num],': ', coef_list[num])"
   ]
  },
  {
   "cell_type": "code",
   "execution_count": 111,
   "id": "e66bad0a",
   "metadata": {},
   "outputs": [
    {
     "name": "stdout",
     "output_type": "stream",
     "text": [
      "Precision Score:  0.8692307692307693\n",
      "Recall Score:  0.7583892617449665\n",
      "F1 Score:  0.8100358422939069\n"
     ]
    }
   ],
   "source": [
    "#Random Forest Model for All Features\n",
    "randomforest_model = RandomForestClassifier(n_estimators=100)\n",
    "randomforest_model.fit(X_train,y_train)\n",
    "y_pred = randomforest_model.predict(X_val)\n",
    "print('Precision Score: ', precision_score(y_val, y_pred))\n",
    "print('Recall Score: ', recall_score(y_val, y_pred))\n",
    "print('F1 Score: ', f1_score(y_val, y_pred))"
   ]
  },
  {
   "cell_type": "code",
   "execution_count": 167,
   "id": "b786850f",
   "metadata": {},
   "outputs": [
    {
     "name": "stdout",
     "output_type": "stream",
     "text": [
      "The target minority represents 5.12 percent\n"
     ]
    }
   ],
   "source": [
    "greater_1Mill = int(df.Target[df.Target == 1].count())\n",
    "lesser_1Mill = int(df.Target[df.Target == 0].count())\n",
    "print(\"The target minority represents\",round((greater_1Mill / (greater_1Mill + lesser_1Mill))*100, 2), 'percent')"
   ]
  },
  {
   "cell_type": "code",
   "execution_count": 113,
   "id": "12bf4c69",
   "metadata": {},
   "outputs": [
    {
     "data": {
      "image/png": "[encoded data removed]",
      "text/plain": [
       "<Figure size 432x288 with 1 Axes>"
      ]
     },
     "metadata": {
      "needs_background": "light"
     },
     "output_type": "display_data"
    }
   ],
   "source": [
    "x = ['Below $1 Mil','Above $1 Mil']\n",
    "height = [df.Target[df.Target == 0].count(), df.Target[df.Target == 1].count()]\n",
    "\n",
    "fig = plt.figure()\n",
    "ax = fig.add_axes([0,0,1,1])\n",
    "ax.bar(x,height)\n",
    "\n",
    "plt.show()"
   ]
  },
  {
   "cell_type": "code",
   "execution_count": 114,
   "id": "e73326d8",
   "metadata": {},
   "outputs": [],
   "source": [
    "#Clearly our target data is very unbalanced, so we're going to upsample the data to correct this imbalance\n",
    "\n",
    "import imblearn.over_sampling\n",
    "n_pos = np.sum(y_train == 1)\n",
    "n_neg = np.sum(y_train == 0)\n",
    "\n",
    "# create 3x as many positive samples\n",
    "ratio = {1 : n_pos * 3, 0 : n_neg}\n",
    "\n",
    "# randomly oversample positives and create a resampled training set\n",
    "ROS = imblearn.over_sampling.RandomOverSampler(\n",
    "                   sampling_strategy = ratio,\n",
    "                   random_state=42)\n",
    "X_train_rs, y_train_rs = ROS.fit_resample(X_train, y_train)"
   ]
  },
  {
   "cell_type": "code",
   "execution_count": 170,
   "id": "854e612a",
   "metadata": {},
   "outputs": [
    {
     "name": "stdout",
     "output_type": "stream",
     "text": [
      "The target minority represents 13.55 percent\n"
     ]
    }
   ],
   "source": [
    "lesser_1Mill_rs = y_train_rs.value_counts()[0]\n",
    "greater_1Mill_rs = y_train_rs.value_counts()[1]\n",
    "greater_1Mill_rs / (greater_1Mill_rs + lesser_1Mill_rs)\n",
    "print(\"The target minority represents\",round((greater_1Mill_rs / (greater_1Mill_rs + lesser_1Mill_rs))*100, 2), 'percent')"
   ]
  },
  {
   "cell_type": "code",
   "execution_count": 116,
   "id": "07f115e3",
   "metadata": {},
   "outputs": [
    {
     "data": {
      "image/png": "[encoded data removed]",
      "text/plain": [
       "<Figure size 432x288 with 1 Axes>"
      ]
     },
     "metadata": {
      "needs_background": "light"
     },
     "output_type": "display_data"
    }
   ],
   "source": [
    "# Below you can see the data has been rebalanced\n",
    "x = ['Below $1 Mil','Above $1 Mil']\n",
    "height = [y_train_rs.value_counts()[0], y_train_rs.value_counts()[1]]\n",
    "\n",
    "fig = plt.figure()\n",
    "ax = fig.add_axes([0,0,1,1])\n",
    "ax.bar(x,height)\n",
    "\n",
    "plt.show()"
   ]
  },
  {
   "cell_type": "code",
   "execution_count": 117,
   "id": "bfe08ad8",
   "metadata": {},
   "outputs": [
    {
     "name": "stdout",
     "output_type": "stream",
     "text": [
      "Precision Score:  0.6444444444444445\n",
      "Recall Score:  0.7733333333333333\n",
      "F1 Score:  0.7030303030303031\n"
     ]
    }
   ],
   "source": [
    "# KNN Model for All Features Resampled Data\n",
    "knn = KNeighborsClassifier(n_neighbors=5)\n",
    "knn.fit(X_train_rs, y_train_rs)\n",
    "y_pred = knn.predict(X_test)\n",
    "print('Precision Score: ', precision_score(y_test, y_pred))\n",
    "print('Recall Score: ', recall_score(y_test, y_pred))\n",
    "print('F1 Score: ', f1_score(y_test, y_pred))"
   ]
  },
  {
   "cell_type": "code",
   "execution_count": 118,
   "id": "89f8fabd",
   "metadata": {},
   "outputs": [
    {
     "name": "stdout",
     "output_type": "stream",
     "text": [
      "Precision Score:  0.6224489795918368\n",
      "Recall Score:  0.8133333333333334\n",
      "F1 Score:  0.7052023121387283\n"
     ]
    },
    {
     "name": "stderr",
     "output_type": "stream",
     "text": [
      "/Users/averypeterson/opt/anaconda3/envs/classification/lib/python3.8/site-packages/sklearn/linear_model/_logistic.py:814: ConvergenceWarning: lbfgs failed to converge (status=1):\n",
      "STOP: TOTAL NO. of ITERATIONS REACHED LIMIT.\n",
      "\n",
      "Increase the number of iterations (max_iter) or scale the data as shown in:\n",
      "    https://scikit-learn.org/stable/modules/preprocessing.html\n",
      "Please also refer to the documentation for alternative solver options:\n",
      "    https://scikit-learn.org/stable/modules/linear_model.html#logistic-regression\n",
      "  n_iter_i = _check_optimize_result(\n"
     ]
    }
   ],
   "source": [
    "#Log Reg Model for All Features Resampled Data\n",
    "lr_model = LogisticRegression()\n",
    "lr_model.fit(X_train_rs,y_train_rs)\n",
    "y_pred = lr_model.predict(X_test)\n",
    "print('Precision Score: ', precision_score(y_test, y_pred))\n",
    "print('Recall Score: ', recall_score(y_test, y_pred))\n",
    "print('F1 Score: ', f1_score(y_test, y_pred))"
   ]
  },
  {
   "cell_type": "code",
   "execution_count": 119,
   "id": "2b65c3d3",
   "metadata": {},
   "outputs": [
    {
     "name": "stdout",
     "output_type": "stream",
     "text": [
      "Lat :  -0.012276898504124091\n",
      "Lon :  0.038245823463572554\n",
      "Land_SQFoot :  7.040536658369266e-05\n",
      "Total_SQFoot :  0.002356117758956514\n",
      "Spec_Feat_Val :  3.7581830216329235e-05\n",
      "Rail_Dist :  7.057854621104497e-05\n",
      "Ocean_Dist :  -3.127333409912914e-05\n",
      "Water_Dist :  -5.8870445101452613e-05\n",
      "CNTR_Dist :  -0.0001305127755400271\n",
      "Sub_CNTR_Dist :  2.628500841604168e-05\n",
      "HWY_Dist :  0.00010235406836264755\n",
      "Age :  -0.03923531327693297\n",
      "AP_Noise :  -3.723713990656457e-05\n",
      "Month_Sold :  -0.0040323117807400805\n",
      "Struc_Qual :  -0.0007106583317686656\n"
     ]
    }
   ],
   "source": [
    "#Feature Coefficients for Resampled Data\n",
    "coef_list = list(lr_model.coef_[0])\n",
    "for num in range(len(coef_list)):\n",
    "    print(X_train.columns[num],': ', coef_list[num])"
   ]
  },
  {
   "cell_type": "code",
   "execution_count": 120,
   "id": "9eb7ead8",
   "metadata": {},
   "outputs": [
    {
     "name": "stdout",
     "output_type": "stream",
     "text": [
      "Precision Score:  0.7834394904458599\n",
      "Recall Score:  0.825503355704698\n",
      "F1 Score:  0.8039215686274511\n"
     ]
    }
   ],
   "source": [
    "#Random Forest for Resampled data\n",
    "randomforest_model = RandomForestClassifier(n_estimators=221,\n",
    "                                           max_depth = 22,\n",
    "                                           random_state = 42,\n",
    "                                           min_samples_split=2,\n",
    "                                           max_leaf_nodes = None,\n",
    "                                           min_samples_leaf = 1,\n",
    "                                           max_samples = 942,\n",
    "                                           max_features = 1)\n",
    "randomforest_model.fit(X_train_rs,y_train_rs)\n",
    "y_pred = randomforest_model.predict(X_val)\n",
    "print('Precision Score: ', precision_score(y_val, y_pred))\n",
    "print('Recall Score: ', recall_score(y_val, y_pred))\n",
    "print('F1 Score: ', f1_score(y_val, y_pred))"
   ]
  },
  {
   "cell_type": "code",
   "execution_count": 122,
   "id": "8737bf09",
   "metadata": {},
   "outputs": [],
   "source": [
    "# Clearly the random forest model had the highest performance. Let's identify the most significant features\n",
    "# Done with feature_importances_\n",
    "\n",
    "feat_imp_df1 = pd.DataFrame(randomforest_model.feature_importances_, \n",
    "                           index = X_train.columns, \n",
    "                           columns = ['Column']).sort_values(by = 'Column', ascending = True)"
   ]
  },
  {
   "cell_type": "code",
   "execution_count": 124,
   "id": "7a24f809",
   "metadata": {
    "scrolled": true
   },
   "outputs": [
    {
     "data": {
      "image/png": "[encoded data removed]",
      "text/plain": [
       "<Figure size 432x288 with 1 Axes>"
      ]
     },
     "metadata": {
      "needs_background": "light"
     },
     "output_type": "display_data"
    }
   ],
   "source": [
    "feature_names = feat_imp_df1.index\n",
    "importance = feat_imp_df1.Column\n",
    "\n",
    "fig = plt.figure()\n",
    "ax = fig.add_axes([0,0,1,1])\n",
    "ax.barh(feature_names,importance)\n",
    "\n",
    "plt.show()"
   ]
  },
  {
   "cell_type": "code",
   "execution_count": 125,
   "id": "e1c6ec5c",
   "metadata": {},
   "outputs": [],
   "source": [
    "# Done with premutation_importance\n",
    "\n",
    "result = permutation_importance(randomforest_model, X_val, y_val, n_repeats=10,random_state=0)"
   ]
  },
  {
   "cell_type": "code",
   "execution_count": 126,
   "id": "858b60ca",
   "metadata": {},
   "outputs": [],
   "source": [
    "feat_imp_df2 = pd.DataFrame(result.importances_mean, \n",
    "                           index = X_train.columns, \n",
    "                           columns = ['Column']).sort_values(by = 'Column', ascending = True)"
   ]
  },
  {
   "cell_type": "code",
   "execution_count": 127,
   "id": "2755f182",
   "metadata": {
    "scrolled": true
   },
   "outputs": [
    {
     "data": {
      "image/png": "[encoded data removed]",
      "text/plain": [
       "<Figure size 432x288 with 1 Axes>"
      ]
     },
     "metadata": {
      "needs_background": "light"
     },
     "output_type": "display_data"
    }
   ],
   "source": [
    "feature_names = feat_imp_df2.index\n",
    "importance = feat_imp_df2.Column\n",
    "\n",
    "fig = plt.figure()\n",
    "ax = fig.add_axes([0,0,1,1])\n",
    "ax.barh(feature_names,importance)\n",
    "\n",
    "plt.show()"
   ]
  },
  {
   "cell_type": "code",
   "execution_count": 128,
   "id": "4db2da04",
   "metadata": {},
   "outputs": [],
   "source": [
    "#Based on the feature importance models, rail distance, airplane noise, latitude, and month sold are not significant predictors\n",
    "#Also removed Longitude as this represents the same measure as distance from the ocean\n",
    "#Will create a new model without those features\n",
    "\n",
    "X_train_rs = X_train_rs.drop(columns = ['Rail_Dist', 'AP_Noise', 'Month_Sold', 'Lat', 'Lon'])\n",
    "\n",
    "X_val = X_val.drop(columns = ['Rail_Dist', 'AP_Noise', 'Month_Sold', 'Lat', 'Lon'])\n",
    "\n",
    "X_test = X_test.drop(columns = ['Rail_Dist', 'AP_Noise', 'Month_Sold', 'Lat', 'Lon'])"
   ]
  },
  {
   "cell_type": "code",
   "execution_count": 129,
   "id": "e339ffd3",
   "metadata": {},
   "outputs": [
    {
     "name": "stdout",
     "output_type": "stream",
     "text": [
      "Precision Score:  0.8095238095238095\n",
      "Recall Score:  0.7986577181208053\n",
      "F1 Score:  0.8040540540540542\n"
     ]
    }
   ],
   "source": [
    "#Random Forest for Resampled data\n",
    "randomforest_model = RandomForestClassifier(n_estimators=221,\n",
    "                                           max_depth = 22,\n",
    "                                           random_state = 42,\n",
    "                                           min_samples_split=2,\n",
    "                                           max_leaf_nodes = None,\n",
    "                                           min_samples_leaf = 1,\n",
    "                                           max_samples = 942,\n",
    "                                           max_features = 1)\n",
    "randomforest_model.fit(X_train_rs,y_train_rs)\n",
    "y_pred = randomforest_model.predict(X_val)\n",
    "print('Precision Score: ', precision_score(y_val, y_pred))\n",
    "print('Recall Score: ', recall_score(y_val, y_pred))\n",
    "print('F1 Score: ', f1_score(y_val, y_pred))"
   ]
  },
  {
   "cell_type": "code",
   "execution_count": 131,
   "id": "99fdde83",
   "metadata": {},
   "outputs": [
    {
     "data": {
      "image/png": "[encoded data removed]",
      "text/plain": [
       "<Figure size 432x288 with 1 Axes>"
      ]
     },
     "metadata": {
      "needs_background": "light"
     },
     "output_type": "display_data"
    }
   ],
   "source": [
    "feat_imp_df1 = pd.DataFrame(randomforest_model.feature_importances_, \n",
    "                           index = X_test.columns, \n",
    "                           columns = ['Column']).sort_values(by = 'Column', ascending = True)\n",
    "\n",
    "feature_names = feat_imp_df1.index\n",
    "importance = feat_imp_df1.Column\n",
    "\n",
    "fig = plt.figure()\n",
    "ax = fig.add_axes([0,0,1,1])\n",
    "ax.barh(feature_names,importance)\n",
    "\n",
    "plt.show()"
   ]
  },
  {
   "cell_type": "code",
   "execution_count": 132,
   "id": "3d83da1d",
   "metadata": {},
   "outputs": [
    {
     "data": {
      "image/png": "[encoded data removed]",
      "text/plain": [
       "<Figure size 432x288 with 1 Axes>"
      ]
     },
     "metadata": {
      "needs_background": "light"
     },
     "output_type": "display_data"
    }
   ],
   "source": [
    "result = permutation_importance(randomforest_model, X_test, y_test, n_repeats=10,random_state=0)\n",
    "\n",
    "feat_imp_df2 = pd.DataFrame(result.importances_mean, \n",
    "                           index = X_test.columns, \n",
    "                           columns = ['Column']).sort_values(by = 'Column', ascending = True)\n",
    "\n",
    "feature_names = feat_imp_df2.index\n",
    "importance = feat_imp_df2.Column\n",
    "\n",
    "fig = plt.figure()\n",
    "ax = fig.add_axes([0,0,1,1])\n",
    "ax.barh(feature_names,importance)\n",
    "\n",
    "plt.show()"
   ]
  },
  {
   "cell_type": "code",
   "execution_count": 133,
   "id": "c023497a",
   "metadata": {},
   "outputs": [
    {
     "name": "stdout",
     "output_type": "stream",
     "text": [
      "Precision Score:  0.8356164383561644\n",
      "Recall Score:  0.8133333333333334\n",
      "F1 Score:  0.8243243243243243\n"
     ]
    }
   ],
   "source": [
    "#Final Model Evaluation on Test Set\n",
    "randomforest_model = RandomForestClassifier(n_estimators=221,\n",
    "                                           max_depth = 22,\n",
    "                                           random_state = 42,\n",
    "                                           min_samples_split=2,\n",
    "                                           max_leaf_nodes = None,\n",
    "                                           min_samples_leaf = 1,\n",
    "                                           max_samples = 942,\n",
    "                                           max_features = 1)\n",
    "randomforest_model.fit(X_train_rs,y_train_rs)\n",
    "y_pred = randomforest_model.predict(X_test)\n",
    "print('Precision Score: ', precision_score(y_test, y_pred))\n",
    "print('Recall Score: ', recall_score(y_test, y_pred))\n",
    "print('F1 Score: ', f1_score(y_test, y_pred))"
   ]
  }
 ],
 "metadata": {
  "kernelspec": {
   "display_name": "Python 3 (ipykernel)",
   "language": "python",
   "name": "python3"
  },
  "language_info": {
   "codemirror_mode": {
    "name": "ipython",
    "version": 3
   },
   "file_extension": ".py",
   "mimetype": "text/x-python",
   "name": "python",
   "nbconvert_exporter": "python",
   "pygments_lexer": "ipython3",
   "version": "3.8.13"
  }
 },
 "nbformat": 4,
 "nbformat_minor": 5
}
